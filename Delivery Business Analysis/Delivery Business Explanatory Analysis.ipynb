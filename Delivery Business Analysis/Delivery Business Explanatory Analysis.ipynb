{
 "cells": [
  {
   "cell_type": "code",
   "execution_count": 1,
   "metadata": {},
   "outputs": [],
   "source": [
    "import numpy as np\n",
    "import pandas as pd\n",
    "import matplotlib.pyplot as plt\n",
    "import seaborn as sns"
   ]
  },
  {
   "cell_type": "code",
   "execution_count": 2,
   "metadata": {},
   "outputs": [],
   "source": [
    "#read the data\n",
    "data=pd.read_excel(\"Downloads/data for stacking question.xlsx\",parse_dates=['ORDER_ACCEPTED_AT','NEXT_ORDER_AT'])"
   ]
  },
  {
   "cell_type": "code",
   "execution_count": 3,
   "metadata": {},
   "outputs": [
    {
     "data": {
      "text/html": [
       "<div>\n",
       "<style scoped>\n",
       "    .dataframe tbody tr th:only-of-type {\n",
       "        vertical-align: middle;\n",
       "    }\n",
       "\n",
       "    .dataframe tbody tr th {\n",
       "        vertical-align: top;\n",
       "    }\n",
       "\n",
       "    .dataframe thead th {\n",
       "        text-align: right;\n",
       "    }\n",
       "</style>\n",
       "<table border=\"1\" class=\"dataframe\">\n",
       "  <thead>\n",
       "    <tr style=\"text-align: right;\">\n",
       "      <th></th>\n",
       "      <th>ORDER_ID</th>\n",
       "      <th>ORDER_ACCEPTED_AT</th>\n",
       "      <th>IS_STACKED</th>\n",
       "      <th>CUSTOMER_ID</th>\n",
       "      <th>NEXT_ORDER_AT</th>\n",
       "      <th>RIDER_COST_GBP</th>\n",
       "      <th>CUSTOMER_COMPENSATION_GBP</th>\n",
       "      <th>REVENUE_GBP</th>\n",
       "    </tr>\n",
       "  </thead>\n",
       "  <tbody>\n",
       "    <tr>\n",
       "      <th>0</th>\n",
       "      <td>520547832784906</td>\n",
       "      <td>2019-03-14 19:53:06.174</td>\n",
       "      <td>False</td>\n",
       "      <td>3277890510222238366</td>\n",
       "      <td>NaT</td>\n",
       "      <td>6.504539</td>\n",
       "      <td>3.009077</td>\n",
       "      <td>20.009077</td>\n",
       "    </tr>\n",
       "    <tr>\n",
       "      <th>1</th>\n",
       "      <td>2473846445738140</td>\n",
       "      <td>2019-04-20 21:47:36.789</td>\n",
       "      <td>False</td>\n",
       "      <td>2334065452540108497</td>\n",
       "      <td>2019-04-21 20:47:02.998</td>\n",
       "      <td>6.720080</td>\n",
       "      <td>3.440161</td>\n",
       "      <td>20.440161</td>\n",
       "    </tr>\n",
       "    <tr>\n",
       "      <th>2</th>\n",
       "      <td>2791273726589380096</td>\n",
       "      <td>2019-03-02 17:05:17.295</td>\n",
       "      <td>False</td>\n",
       "      <td>320456040296798965</td>\n",
       "      <td>2019-03-03 12:55:14.796</td>\n",
       "      <td>5.935463</td>\n",
       "      <td>0.000000</td>\n",
       "      <td>18.870926</td>\n",
       "    </tr>\n",
       "    <tr>\n",
       "      <th>3</th>\n",
       "      <td>5452699985020399616</td>\n",
       "      <td>2019-03-02 18:42:59.290</td>\n",
       "      <td>False</td>\n",
       "      <td>3044927327853533142</td>\n",
       "      <td>2019-03-03 19:03:56.484</td>\n",
       "      <td>5.479073</td>\n",
       "      <td>0.000000</td>\n",
       "      <td>17.958146</td>\n",
       "    </tr>\n",
       "    <tr>\n",
       "      <th>4</th>\n",
       "      <td>1000459218264961875</td>\n",
       "      <td>2019-04-12 11:58:29.335</td>\n",
       "      <td>False</td>\n",
       "      <td>3705059906007268874</td>\n",
       "      <td>2019-04-12 17:37:11.715</td>\n",
       "      <td>6.339042</td>\n",
       "      <td>0.000000</td>\n",
       "      <td>19.678085</td>\n",
       "    </tr>\n",
       "  </tbody>\n",
       "</table>\n",
       "</div>"
      ],
      "text/plain": [
       "              ORDER_ID       ORDER_ACCEPTED_AT  IS_STACKED  \\\n",
       "0      520547832784906 2019-03-14 19:53:06.174       False   \n",
       "1     2473846445738140 2019-04-20 21:47:36.789       False   \n",
       "2  2791273726589380096 2019-03-02 17:05:17.295       False   \n",
       "3  5452699985020399616 2019-03-02 18:42:59.290       False   \n",
       "4  1000459218264961875 2019-04-12 11:58:29.335       False   \n",
       "\n",
       "           CUSTOMER_ID           NEXT_ORDER_AT  RIDER_COST_GBP  \\\n",
       "0  3277890510222238366                     NaT        6.504539   \n",
       "1  2334065452540108497 2019-04-21 20:47:02.998        6.720080   \n",
       "2   320456040296798965 2019-03-03 12:55:14.796        5.935463   \n",
       "3  3044927327853533142 2019-03-03 19:03:56.484        5.479073   \n",
       "4  3705059906007268874 2019-04-12 17:37:11.715        6.339042   \n",
       "\n",
       "   CUSTOMER_COMPENSATION_GBP  REVENUE_GBP  \n",
       "0                   3.009077    20.009077  \n",
       "1                   3.440161    20.440161  \n",
       "2                   0.000000    18.870926  \n",
       "3                   0.000000    17.958146  \n",
       "4                   0.000000    19.678085  "
      ]
     },
     "execution_count": 3,
     "metadata": {},
     "output_type": "execute_result"
    }
   ],
   "source": [
    "#examine the data\n",
    "data.head()"
   ]
  },
  {
   "cell_type": "code",
   "execution_count": 4,
   "metadata": {},
   "outputs": [
    {
     "name": "stdout",
     "output_type": "stream",
     "text": [
      "<class 'pandas.core.frame.DataFrame'>\n",
      "RangeIndex: 10000 entries, 0 to 9999\n",
      "Data columns (total 8 columns):\n",
      "ORDER_ID                     10000 non-null int64\n",
      "ORDER_ACCEPTED_AT            10000 non-null datetime64[ns]\n",
      "IS_STACKED                   10000 non-null bool\n",
      "CUSTOMER_ID                  10000 non-null int64\n",
      "NEXT_ORDER_AT                7819 non-null datetime64[ns]\n",
      "RIDER_COST_GBP               10000 non-null float64\n",
      "CUSTOMER_COMPENSATION_GBP    10000 non-null float64\n",
      "REVENUE_GBP                  10000 non-null float64\n",
      "dtypes: bool(1), datetime64[ns](2), float64(3), int64(2)\n",
      "memory usage: 556.7 KB\n"
     ]
    }
   ],
   "source": [
    "#check the datatypes\n",
    "data.info()"
   ]
  },
  {
   "cell_type": "code",
   "execution_count": 5,
   "metadata": {},
   "outputs": [
    {
     "data": {
      "text/plain": [
       "(10000, 8)"
      ]
     },
     "execution_count": 5,
     "metadata": {},
     "output_type": "execute_result"
    }
   ],
   "source": [
    "data.shape"
   ]
  },
  {
   "cell_type": "markdown",
   "metadata": {},
   "source": [
    "# How many stacked deliveries?"
   ]
  },
  {
   "cell_type": "code",
   "execution_count": 6,
   "metadata": {},
   "outputs": [
    {
     "data": {
      "text/plain": [
       "False    7327\n",
       "True     2673\n",
       "Name: IS_STACKED, dtype: int64"
      ]
     },
     "execution_count": 6,
     "metadata": {},
     "output_type": "execute_result"
    }
   ],
   "source": [
    "data['IS_STACKED'].value_counts()"
   ]
  },
  {
   "cell_type": "code",
   "execution_count": 7,
   "metadata": {},
   "outputs": [],
   "source": [
    "data=data.sort_values(['CUSTOMER_COMPENSATION_GBP'])"
   ]
  },
  {
   "cell_type": "markdown",
   "metadata": {},
   "source": [
    "# How many times there were customer compensation paid when the delivery was stacked?"
   ]
  },
  {
   "cell_type": "code",
   "execution_count": 8,
   "metadata": {},
   "outputs": [],
   "source": [
    "stack_comp=(len(data['CUSTOMER_COMPENSATION_GBP'][(data['IS_STACKED']==True)&(data['CUSTOMER_COMPENSATION_GBP']>0)]))"
   ]
  },
  {
   "cell_type": "code",
   "execution_count": 9,
   "metadata": {},
   "outputs": [],
   "source": [
    "stack_nocomp=(len(data['CUSTOMER_COMPENSATION_GBP'][(data['IS_STACKED']==True)&(data['CUSTOMER_COMPENSATION_GBP']<=0)]))"
   ]
  },
  {
   "cell_type": "code",
   "execution_count": 10,
   "metadata": {},
   "outputs": [
    {
     "data": {
      "text/plain": [
       "0.3550317994762439"
      ]
     },
     "execution_count": 10,
     "metadata": {},
     "output_type": "execute_result"
    }
   ],
   "source": [
    "stack_comp/(stack_comp+stack_nocomp)"
   ]
  },
  {
   "cell_type": "code",
   "execution_count": 11,
   "metadata": {},
   "outputs": [
    {
     "data": {
      "text/plain": [
       "0.644968200523756"
      ]
     },
     "execution_count": 11,
     "metadata": {},
     "output_type": "execute_result"
    }
   ],
   "source": [
    "stack_nocomp/(stack_comp+stack_nocomp)"
   ]
  },
  {
   "cell_type": "code",
   "execution_count": 12,
   "metadata": {},
   "outputs": [],
   "source": [
    "# 64.49% the stacked order has ended up paying compensation"
   ]
  },
  {
   "cell_type": "markdown",
   "metadata": {},
   "source": [
    "# How many times there were customer compensation paid when the delivery was not stacked?"
   ]
  },
  {
   "cell_type": "code",
   "execution_count": 13,
   "metadata": {},
   "outputs": [],
   "source": [
    "nostack_comp=(len(data['CUSTOMER_COMPENSATION_GBP'][(data['IS_STACKED']==False)&(data['CUSTOMER_COMPENSATION_GBP']>0)]))"
   ]
  },
  {
   "cell_type": "code",
   "execution_count": 14,
   "metadata": {},
   "outputs": [],
   "source": [
    "nostack_nocomp=(len(data['CUSTOMER_COMPENSATION_GBP'][(data['IS_STACKED']==False)&(data['CUSTOMER_COMPENSATION_GBP']<=0)]))"
   ]
  },
  {
   "cell_type": "code",
   "execution_count": 15,
   "metadata": {},
   "outputs": [
    {
     "data": {
      "text/plain": [
       "0.3180019107410946"
      ]
     },
     "execution_count": 15,
     "metadata": {},
     "output_type": "execute_result"
    }
   ],
   "source": [
    "nostack_comp/(nostack_comp+nostack_nocomp)"
   ]
  },
  {
   "cell_type": "code",
   "execution_count": 16,
   "metadata": {},
   "outputs": [
    {
     "data": {
      "text/plain": [
       "0.6819980892589054"
      ]
     },
     "execution_count": 16,
     "metadata": {},
     "output_type": "execute_result"
    }
   ],
   "source": [
    "nostack_nocomp/(nostack_comp+nostack_nocomp)"
   ]
  },
  {
   "cell_type": "code",
   "execution_count": 17,
   "metadata": {},
   "outputs": [],
   "source": [
    "# 31.8% the no stacked order has ended up paying compensation"
   ]
  },
  {
   "cell_type": "code",
   "execution_count": 18,
   "metadata": {},
   "outputs": [],
   "source": [
    "stack_df=pd.DataFrame({'Stack':['Stack','Stack','No Stack','No Stack'],\n",
    "                      'Comp':[stack_comp,stack_nocomp,nostack_comp,nostack_nocomp],\n",
    "                       'Paid':['Yes','No','Yes','No']})"
   ]
  },
  {
   "cell_type": "code",
   "execution_count": 19,
   "metadata": {},
   "outputs": [
    {
     "data": {
      "text/plain": [
       "<seaborn.axisgrid.FacetGrid at 0x1a1aa96780>"
      ]
     },
     "execution_count": 19,
     "metadata": {},
     "output_type": "execute_result"
    },
    {
     "data": {
      "image/png": "[encoded data removed]",
      "text/plain": [
       "<Figure size 490.459x432 with 1 Axes>"
      ]
     },
     "metadata": {},
     "output_type": "display_data"
    }
   ],
   "source": [
    "import seaborn as sns\n",
    "sns.set(style=\"whitegrid\")\n",
    "g = sns.catplot(x=\"Stack\", y=\"Comp\", hue=\"Paid\", data=stack_df,\n",
    "                height=6, kind=\"bar\", palette=\"muted\")\n",
    "g.despine(left=True)\n",
    "g.set_ylabels(\"Count\")"
   ]
  },
  {
   "cell_type": "code",
   "execution_count": 20,
   "metadata": {},
   "outputs": [],
   "source": [
    "#create new field diff to find after how many days the next order is placed"
   ]
  },
  {
   "cell_type": "code",
   "execution_count": 21,
   "metadata": {},
   "outputs": [],
   "source": [
    "data['diff']=data['NEXT_ORDER_AT']-data['ORDER_ACCEPTED_AT']"
   ]
  },
  {
   "cell_type": "code",
   "execution_count": 22,
   "metadata": {},
   "outputs": [],
   "source": [
    "data['diff_days']=data['diff'].dt.days"
   ]
  },
  {
   "cell_type": "markdown",
   "metadata": {},
   "source": [
    "# Revenue Analysis"
   ]
  },
  {
   "cell_type": "code",
   "execution_count": 23,
   "metadata": {},
   "outputs": [],
   "source": [
    "#discretizing data for revenue\n",
    "data['Revenue_Range']=pd.cut(data['REVENUE_GBP'],[9,10,11,12,13,14,15,16,17,18,19,20,21,22,23,24,25,26,27],\n",
    "                         labels=[9,10,11,12,13,14,15,16,17,18,19,20,21,22,23,24,25,26])"
   ]
  },
  {
   "cell_type": "code",
   "execution_count": 24,
   "metadata": {},
   "outputs": [],
   "source": [
    "revenue_range=pd.DataFrame(data['Revenue_Range'].value_counts())"
   ]
  },
  {
   "cell_type": "code",
   "execution_count": 25,
   "metadata": {},
   "outputs": [
    {
     "data": {
      "text/plain": [
       "Text(0, 0.5, 'Count of orders')"
      ]
     },
     "execution_count": 25,
     "metadata": {},
     "output_type": "execute_result"
    },
    {
     "data": {
      "image/png": "[encoded data removed]",
      "text/plain": [
       "<Figure size 432x288 with 1 Axes>"
      ]
     },
     "metadata": {},
     "output_type": "display_data"
    }
   ],
   "source": [
    "plt.bar(revenue_range.index,revenue_range['Revenue_Range'])\n",
    "plt.title(\"Revenue Range\")\n",
    "plt.xlabel(\"Revenue Range\")\n",
    "plt.ylabel(\"Count of orders\")"
   ]
  },
  {
   "cell_type": "code",
   "execution_count": 26,
   "metadata": {},
   "outputs": [],
   "source": [
    "#create a new dataframe to analyze the data on days when revenue is the highest\n",
    "high_revenue=data[data['Revenue_Range']==19]"
   ]
  },
  {
   "cell_type": "code",
   "execution_count": 27,
   "metadata": {},
   "outputs": [
    {
     "data": {
      "text/plain": [
       "False    1387\n",
       "True      492\n",
       "Name: IS_STACKED, dtype: int64"
      ]
     },
     "execution_count": 27,
     "metadata": {},
     "output_type": "execute_result"
    }
   ],
   "source": [
    "high_revenue['IS_STACKED'].value_counts()"
   ]
  },
  {
   "cell_type": "code",
   "execution_count": 28,
   "metadata": {},
   "outputs": [],
   "source": [
    "#most of the revenue is from non-stacked orders"
   ]
  },
  {
   "cell_type": "markdown",
   "metadata": {},
   "source": [
    "# Revenue Analysis for Stacked and Unstacked orders"
   ]
  },
  {
   "cell_type": "code",
   "execution_count": 29,
   "metadata": {},
   "outputs": [],
   "source": [
    "#Discretize the customer compensation and roders cost to understand the distribution"
   ]
  },
  {
   "cell_type": "code",
   "execution_count": 30,
   "metadata": {},
   "outputs": [],
   "source": [
    "data['Cust_BGP_Range']=pd.cut(data['CUSTOMER_COMPENSATION_GBP'],[-1,0,1,2,3,4,5,6,7,8,9],\n",
    "                         labels=[0,1,2,3,4,5,6,7,8,9])"
   ]
  },
  {
   "cell_type": "code",
   "execution_count": 31,
   "metadata": {},
   "outputs": [],
   "source": [
    "data['Rider_cost_Range']=pd.cut(data['RIDER_COST_GBP'],[0,2,3,4,5,6,7,8,9,10],\n",
    "                         labels=[1,2,3,4,5,6,7,8,9])"
   ]
  },
  {
   "cell_type": "code",
   "execution_count": 32,
   "metadata": {},
   "outputs": [],
   "source": [
    "stack = data[data['IS_STACKED']==True]\n",
    "unstack = data[data['IS_STACKED']==False]"
   ]
  },
  {
   "cell_type": "code",
   "execution_count": 33,
   "metadata": {},
   "outputs": [],
   "source": [
    "stack_revenue=pd.DataFrame(stack['Revenue_Range'].value_counts())\n",
    "unstack_revenue=pd.DataFrame(unstack['Revenue_Range'].value_counts())"
   ]
  },
  {
   "cell_type": "code",
   "execution_count": 34,
   "metadata": {},
   "outputs": [],
   "source": [
    "stack_cust_gbp=pd.DataFrame(stack['Cust_BGP_Range'].value_counts())\n",
    "unstack_cust_gbp=pd.DataFrame(unstack['Cust_BGP_Range'].value_counts())"
   ]
  },
  {
   "cell_type": "code",
   "execution_count": 35,
   "metadata": {},
   "outputs": [],
   "source": [
    "stack_rider_gbp=pd.DataFrame(stack['Rider_cost_Range'].value_counts())\n",
    "unstack_rider_gbp=pd.DataFrame(unstack['Rider_cost_Range'].value_counts())"
   ]
  },
  {
   "cell_type": "code",
   "execution_count": 36,
   "metadata": {},
   "outputs": [
    {
     "data": {
      "image/png": "[encoded data removed]",
      "text/plain": [
       "<Figure size 720x360 with 6 Axes>"
      ]
     },
     "metadata": {},
     "output_type": "display_data"
    }
   ],
   "source": [
    "plt.figure(figsize=(10,5))\n",
    "plt.subplot(3,2,1)\n",
    "plt.bar(stack_revenue.index,stack_revenue['Revenue_Range'])\n",
    "plt.title(\"Stacked Orders Revenue\")\n",
    "plt.ylim(0,1500)\n",
    "plt.subplot(3,2,2)\n",
    "plt.title(\"Unstacked Orders Revenue\")\n",
    "plt.bar(unstack_revenue.index,unstack_revenue['Revenue_Range'])\n",
    "plt.ylim(0,1500)\n",
    "plt.subplot(3,2,3)\n",
    "plt.bar(stack_cust_gbp.index,stack_cust_gbp['Cust_BGP_Range'])\n",
    "plt.ylim(0,6000)\n",
    "plt.title(\"Stacked Orders Customer Compensation\")\n",
    "plt.subplot(3,2,4)\n",
    "plt.title(\"Unstacked Orders Customer Compensation\")\n",
    "plt.bar(unstack_cust_gbp.index,unstack_cust_gbp['Cust_BGP_Range'])\n",
    "plt.ylim(0,6000)\n",
    "\n",
    "plt.subplot(3,2,5)\n",
    "plt.bar(stack_rider_gbp.index,stack_rider_gbp['Rider_cost_Range'])\n",
    "plt.ylim(0,2500)\n",
    "plt.title(\"Stacked Orders Riders Compensation\")\n",
    "plt.subplot(3,2,6)\n",
    "plt.title(\"Unstacked Orders Riders Compensation\")\n",
    "plt.bar(unstack_rider_gbp.index,unstack_rider_gbp['Rider_cost_Range'])\n",
    "#plt.ylim(0,6000)\n",
    "plt.tight_layout()\n",
    "\n",
    "plt.tight_layout()"
   ]
  },
  {
   "cell_type": "code",
   "execution_count": 37,
   "metadata": {},
   "outputs": [
    {
     "name": "stdout",
     "output_type": "stream",
     "text": [
      "STACKED ORDERS:\n",
      "\n",
      "Average Customer Compensation: 1.4537844432300777\n",
      "Average Revenue:               20.01323834676057\n",
      "Average Riders Cost:           4.006619173375421\n"
     ]
    }
   ],
   "source": [
    "print(\"STACKED ORDERS:\")\n",
    "print(\"\")\n",
    "print(\"Average Customer Compensation:\",np.mean(stack['CUSTOMER_COMPENSATION_GBP']))\n",
    "print(\"Average Revenue:              \",np.mean(stack['REVENUE_GBP']))\n",
    "print(\"Average Riders Cost:          \",np.mean(stack['RIDER_COST_GBP']))"
   ]
  },
  {
   "cell_type": "code",
   "execution_count": 38,
   "metadata": {},
   "outputs": [
    {
     "name": "stdout",
     "output_type": "stream",
     "text": [
      "UNSTACKED ORDERS:\n",
      "\n",
      "Average Customer Compensation: 1.3482279832664106\n",
      "Average Revenue:               19.021284676132236\n",
      "Average Riders Cost:           6.01064233807275\n"
     ]
    }
   ],
   "source": [
    "print(\"UNSTACKED ORDERS:\")\n",
    "print(\"\")\n",
    "print(\"Average Customer Compensation:\",np.mean(unstack['CUSTOMER_COMPENSATION_GBP']))\n",
    "print(\"Average Revenue:              \",np.mean(unstack['REVENUE_GBP']))\n",
    "print(\"Average Riders Cost:          \",np.mean(unstack['RIDER_COST_GBP']))"
   ]
  },
  {
   "cell_type": "markdown",
   "metadata": {},
   "source": [
    "# Analysis based on peak hours"
   ]
  },
  {
   "cell_type": "code",
   "execution_count": 39,
   "metadata": {},
   "outputs": [],
   "source": [
    "hours=[]\n",
    "for i in data['ORDER_ACCEPTED_AT']:\n",
    "    t=i.to_pydatetime()\n",
    "    hours.append(t.hour)\n",
    "minutes=[]\n",
    "for i in data['ORDER_ACCEPTED_AT']:\n",
    "    t=i.to_pydatetime()\n",
    "    minutes.append(t.minute)\n",
    "    \n",
    "    \n",
    "data['Minute']=minutes\n",
    "data['Hour']=hours"
   ]
  },
  {
   "cell_type": "code",
   "execution_count": 40,
   "metadata": {},
   "outputs": [
    {
     "data": {
      "text/plain": [
       "Text(0, 0.5, 'Count')"
      ]
     },
     "execution_count": 40,
     "metadata": {},
     "output_type": "execute_result"
    },
    {
     "data": {
      "image/png": "[encoded data removed]",
      "text/plain": [
       "<Figure size 432x288 with 1 Axes>"
      ]
     },
     "metadata": {},
     "output_type": "display_data"
    }
   ],
   "source": [
    "plt.bar(data['Hour'].value_counts().index,data['Hour'].value_counts())\n",
    "plt.title(\"Order placed in terms of hours\")\n",
    "plt.xlabel(\"Hour\")\n",
    "plt.ylabel(\"Count\")"
   ]
  },
  {
   "cell_type": "code",
   "execution_count": 41,
   "metadata": {},
   "outputs": [
    {
     "data": {
      "text/plain": [
       "Text(0, 0.5, 'Count')"
      ]
     },
     "execution_count": 41,
     "metadata": {},
     "output_type": "execute_result"
    },
    {
     "data": {
      "image/png": "[encoded data removed]",
      "text/plain": [
       "<Figure size 432x288 with 1 Axes>"
      ]
     },
     "metadata": {},
     "output_type": "display_data"
    }
   ],
   "source": [
    "plt.bar(data['Minute'].value_counts().index,data['Minute'].value_counts())\n",
    "plt.title(\"Order placed in terms of minutes\")\n",
    "plt.xlabel(\"Minute\")\n",
    "plt.ylabel(\"Count\")"
   ]
  },
  {
   "cell_type": "code",
   "execution_count": 42,
   "metadata": {},
   "outputs": [],
   "source": [
    "#Inference: There is no specific minute at which more orders are palced.\n",
    "#There is no definite pattern. Hence this minute information is not of much use."
   ]
  },
  {
   "cell_type": "code",
   "execution_count": 43,
   "metadata": {},
   "outputs": [],
   "source": [
    "peak=data[(data['Hour']>=17)&(data['Hour']<=21)]"
   ]
  },
  {
   "cell_type": "code",
   "execution_count": 44,
   "metadata": {},
   "outputs": [
    {
     "name": "stdout",
     "output_type": "stream",
     "text": [
      "STACKED ORDERS:\n",
      "\n",
      "Average Customer Compensation: 1.4611534677275047\n",
      "Average Revenue:               20.035064155431005\n",
      "Average Riders Cost:           4.017532077708996\n"
     ]
    }
   ],
   "source": [
    "print(\"STACKED ORDERS:\")\n",
    "print(\"\")\n",
    "print(\"Average Customer Compensation:\",np.mean(peak['CUSTOMER_COMPENSATION_GBP'][peak['IS_STACKED']==True]))\n",
    "print(\"Average Revenue:              \",np.mean(peak['REVENUE_GBP'][peak['IS_STACKED']==True]))\n",
    "print(\"Average Riders Cost:          \",np.mean(peak['RIDER_COST_GBP'][peak['IS_STACKED']==True]))"
   ]
  },
  {
   "cell_type": "code",
   "execution_count": 45,
   "metadata": {},
   "outputs": [
    {
     "name": "stdout",
     "output_type": "stream",
     "text": [
      "UNSTACKED ORDERS:\n",
      "\n",
      "Average Customer Compensation: 1.3907726149538897\n",
      "Average Revenue:               19.06102691955948\n",
      "Average Riders Cost:           6.0305134597902805\n"
     ]
    }
   ],
   "source": [
    "print(\"UNSTACKED ORDERS:\")\n",
    "print(\"\")\n",
    "print(\"Average Customer Compensation:\",np.mean(peak['CUSTOMER_COMPENSATION_GBP'][peak['IS_STACKED']==False]))\n",
    "print(\"Average Revenue:              \",np.mean(peak['REVENUE_GBP'][peak['IS_STACKED']==False]))\n",
    "print(\"Average Riders Cost:          \",np.mean(peak['RIDER_COST_GBP'][peak['IS_STACKED']==False]))"
   ]
  },
  {
   "cell_type": "markdown",
   "metadata": {},
   "source": [
    "# Analysis based on non-peak hours"
   ]
  },
  {
   "cell_type": "code",
   "execution_count": 46,
   "metadata": {},
   "outputs": [],
   "source": [
    "nopeak=data[np.logical_not(data['Hour']>=17)&(data['Hour']<=21)]"
   ]
  },
  {
   "cell_type": "code",
   "execution_count": 47,
   "metadata": {},
   "outputs": [
    {
     "name": "stdout",
     "output_type": "stream",
     "text": [
      "STACKED ORDERS:\n",
      "\n",
      "Average Customer Compensation: 1.446377597836115\n",
      "Average Revenue:               19.95418561054781\n",
      "Average Riders Cost:           3.977092805271171\n"
     ]
    }
   ],
   "source": [
    "print(\"STACKED ORDERS:\")\n",
    "print(\"\")\n",
    "print(\"Average Customer Compensation:\",np.mean(nopeak['CUSTOMER_COMPENSATION_GBP'][nopeak['IS_STACKED']==True]))\n",
    "print(\"Average Revenue:              \",np.mean(nopeak['REVENUE_GBP'][nopeak['IS_STACKED']==True]))\n",
    "print(\"Average Riders Cost:          \",np.mean(nopeak['RIDER_COST_GBP'][nopeak['IS_STACKED']==True]))"
   ]
  },
  {
   "cell_type": "code",
   "execution_count": 48,
   "metadata": {},
   "outputs": [
    {
     "name": "stdout",
     "output_type": "stream",
     "text": [
      "UNSTACKED ORDERS:\n",
      "\n",
      "Average Customer Compensation: 1.3070428589499175\n",
      "Average Revenue:               18.98341755249519\n",
      "Average Riders Cost:           5.9917087762497605\n"
     ]
    }
   ],
   "source": [
    "print(\"UNSTACKED ORDERS:\")\n",
    "print(\"\")\n",
    "print(\"Average Customer Compensation:\",np.mean(nopeak['CUSTOMER_COMPENSATION_GBP'][nopeak['IS_STACKED']==False]))\n",
    "print(\"Average Revenue:              \",np.mean(nopeak['REVENUE_GBP'][nopeak['IS_STACKED']==False]))\n",
    "print(\"Average Riders Cost:          \",np.mean(nopeak['RIDER_COST_GBP'][nopeak['IS_STACKED']==False]))"
   ]
  },
  {
   "cell_type": "markdown",
   "metadata": {},
   "source": [
    "# Analysis on the day of highest number of orders"
   ]
  },
  {
   "cell_type": "code",
   "execution_count": 49,
   "metadata": {},
   "outputs": [],
   "source": [
    "data['date']=data['ORDER_ACCEPTED_AT'].dt.date"
   ]
  },
  {
   "cell_type": "code",
   "execution_count": 50,
   "metadata": {},
   "outputs": [
    {
     "data": {
      "text/plain": [
       "2019-03-02    716\n",
       "2019-04-20    527\n",
       "2019-04-05    423\n",
       "2019-03-27    358\n",
       "2019-04-02    358\n",
       "Name: date, dtype: int64"
      ]
     },
     "execution_count": 50,
     "metadata": {},
     "output_type": "execute_result"
    }
   ],
   "source": [
    "data['date'].value_counts().head()"
   ]
  },
  {
   "cell_type": "code",
   "execution_count": 51,
   "metadata": {},
   "outputs": [],
   "source": [
    "data['date']=pd.to_datetime(data['date'], errors='coerce')"
   ]
  },
  {
   "cell_type": "code",
   "execution_count": 52,
   "metadata": {},
   "outputs": [],
   "source": [
    "high=data[data['date']=='2019-03-02']"
   ]
  },
  {
   "cell_type": "code",
   "execution_count": 53,
   "metadata": {},
   "outputs": [
    {
     "data": {
      "text/plain": [
       "False    682\n",
       "True      34\n",
       "Name: IS_STACKED, dtype: int64"
      ]
     },
     "execution_count": 53,
     "metadata": {},
     "output_type": "execute_result"
    }
   ],
   "source": [
    "high['IS_STACKED'].value_counts()"
   ]
  },
  {
   "cell_type": "code",
   "execution_count": 54,
   "metadata": {},
   "outputs": [
    {
     "name": "stdout",
     "output_type": "stream",
     "text": [
      "STACKED ORDERS:\n",
      "\n",
      "Average Customer Compensation: 1.2809123249117649\n",
      "Average Revenue:               19.597791563441177\n",
      "Average Riders Cost:           3.7988957818235294\n"
     ]
    }
   ],
   "source": [
    "print(\"STACKED ORDERS:\")\n",
    "print(\"\")\n",
    "print(\"Average Customer Compensation:\",np.mean(high['CUSTOMER_COMPENSATION_GBP'][high['IS_STACKED']==True]))\n",
    "print(\"Average Revenue:              \",np.mean(high['REVENUE_GBP'][high['IS_STACKED']==True]))\n",
    "print(\"Average Riders Cost:          \",np.mean(high['RIDER_COST_GBP'][high['IS_STACKED']==True]))"
   ]
  },
  {
   "cell_type": "code",
   "execution_count": 55,
   "metadata": {},
   "outputs": [
    {
     "name": "stdout",
     "output_type": "stream",
     "text": [
      "UNSTACKED ORDERS:\n",
      "\n",
      "Average Customer Compensation: 1.2988795828651034\n",
      "Average Revenue:               19.08643946740762\n",
      "Average Riders Cost:           6.043219733692083\n"
     ]
    }
   ],
   "source": [
    "print(\"UNSTACKED ORDERS:\")\n",
    "print(\"\")\n",
    "print(\"Average Customer Compensation:\",np.mean(high['CUSTOMER_COMPENSATION_GBP'][high['IS_STACKED']==False]))\n",
    "print(\"Average Revenue:              \",np.mean(high['REVENUE_GBP'][high['IS_STACKED']==False]))\n",
    "print(\"Average Riders Cost:          \",np.mean(high['RIDER_COST_GBP'][high['IS_STACKED']==False]))"
   ]
  },
  {
   "cell_type": "markdown",
   "metadata": {},
   "source": [
    "# Analysis only on orders where next order was placed"
   ]
  },
  {
   "cell_type": "code",
   "execution_count": 56,
   "metadata": {},
   "outputs": [],
   "source": [
    "next_order=data[np.logical_not(data['NEXT_ORDER_AT'].isnull())]"
   ]
  },
  {
   "cell_type": "code",
   "execution_count": 57,
   "metadata": {},
   "outputs": [
    {
     "name": "stdout",
     "output_type": "stream",
     "text": [
      "STACKED ORDERS:\n",
      "\n",
      "Average Customer Compensation: 1.43681567616951\n",
      "Average Revenue:               20.006987437123637\n",
      "Average Riders Cost:           4.003493718551906\n"
     ]
    }
   ],
   "source": [
    "print(\"STACKED ORDERS:\")\n",
    "print(\"\")\n",
    "print(\"Average Customer Compensation:\",np.mean(next_order['CUSTOMER_COMPENSATION_GBP'][next_order['IS_STACKED']==True]))\n",
    "print(\"Average Revenue:              \",np.mean(next_order['REVENUE_GBP'][next_order['IS_STACKED']==True]))\n",
    "print(\"Average Riders Cost:          \",np.mean(next_order['RIDER_COST_GBP'][next_order['IS_STACKED']==True]))"
   ]
  },
  {
   "cell_type": "code",
   "execution_count": 58,
   "metadata": {},
   "outputs": [
    {
     "name": "stdout",
     "output_type": "stream",
     "text": [
      "UNSTACKED ORDERS:\n",
      "\n",
      "Average Customer Compensation: 1.3627529546107853\n",
      "Average Revenue:               19.04431374752078\n",
      "Average Riders Cost:           6.0221568737622455\n"
     ]
    }
   ],
   "source": [
    "print(\"UNSTACKED ORDERS:\")\n",
    "print(\"\")\n",
    "print(\"Average Customer Compensation:\",np.mean(next_order['CUSTOMER_COMPENSATION_GBP'][next_order['IS_STACKED']==False]))\n",
    "print(\"Average Revenue:              \",np.mean(next_order['REVENUE_GBP'][next_order['IS_STACKED']==False]))\n",
    "print(\"Average Riders Cost:          \",np.mean(next_order['RIDER_COST_GBP'][next_order['IS_STACKED']==False]))"
   ]
  },
  {
   "cell_type": "code",
   "execution_count": 59,
   "metadata": {},
   "outputs": [
    {
     "data": {
      "text/plain": [
       "ORDER_ID                        0\n",
       "ORDER_ACCEPTED_AT               0\n",
       "IS_STACKED                      0\n",
       "CUSTOMER_ID                     0\n",
       "NEXT_ORDER_AT                2181\n",
       "RIDER_COST_GBP                  0\n",
       "CUSTOMER_COMPENSATION_GBP       0\n",
       "REVENUE_GBP                     0\n",
       "diff                         2181\n",
       "diff_days                    2181\n",
       "Revenue_Range                   0\n",
       "Cust_BGP_Range                  2\n",
       "Rider_cost_Range                0\n",
       "Minute                          0\n",
       "Hour                            0\n",
       "date                            0\n",
       "dtype: int64"
      ]
     },
     "execution_count": 59,
     "metadata": {},
     "output_type": "execute_result"
    }
   ],
   "source": [
    "data.isnull().sum()"
   ]
  },
  {
   "cell_type": "code",
   "execution_count": 60,
   "metadata": {},
   "outputs": [
    {
     "data": {
      "image/png": "[encoded data removed]",
      "text/plain": [
       "<Figure size 720x360 with 2 Axes>"
      ]
     },
     "metadata": {},
     "output_type": "display_data"
    }
   ],
   "source": [
    "figure=plt.figure(figsize=(10,5))\n",
    "plt.subplot(1,2,1)\n",
    "plt.scatter(data['REVENUE_GBP'][data['IS_STACKED']==True],data['CUSTOMER_COMPENSATION_GBP'][data['IS_STACKED']==True])\n",
    "plt.scatter(data['REVENUE_GBP'][data['IS_STACKED']==False],data['CUSTOMER_COMPENSATION_GBP'][data['IS_STACKED']==False])\n",
    "plt.legend(('Stack','Unstack'))\n",
    "plt.xlabel(\"Revenue\")\n",
    "plt.ylabel(\"Customer Compensation\")\n",
    "plt.title(\"Revenue vs Customer Compensation Cost\")\n",
    "\n",
    "plt.subplot(1,2,2)\n",
    "plt.scatter(data['REVENUE_GBP'][data['IS_STACKED']==True],data['RIDER_COST_GBP'][data['IS_STACKED']==True])\n",
    "plt.scatter(data['REVENUE_GBP'][data['IS_STACKED']==False],data['RIDER_COST_GBP'][data['IS_STACKED']==False])\n",
    "plt.legend(('Stack','Unstack'))\n",
    "plt.xlabel(\"Revenue\")\n",
    "plt.ylabel(\"Rider Cost\")\n",
    "plt.title(\"Revenue vs Rider Cost\")\n",
    "plt.tight_layout()"
   ]
  }
 ],
 "metadata": {
  "kernelspec": {
   "display_name": "Python 3",
   "language": "python",
   "name": "python3"
  },
  "language_info": {
   "codemirror_mode": {
    "name": "ipython",
    "version": 3
   },
   "file_extension": ".py",
   "mimetype": "text/x-python",
   "name": "python",
   "nbconvert_exporter": "python",
   "pygments_lexer": "ipython3",
   "version": "3.7.3"
  }
 },
 "nbformat": 4,
 "nbformat_minor": 2
}
