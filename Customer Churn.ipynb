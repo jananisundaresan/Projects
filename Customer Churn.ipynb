{
 "cells": [
  {
   "cell_type": "code",
   "execution_count": 106,
   "metadata": {},
   "outputs": [],
   "source": [
    "import pandas as pd\n",
    "import numpy as np\n",
    "import matplotlib.pyplot as plt"
   ]
  },
  {
   "cell_type": "code",
   "execution_count": 107,
   "metadata": {},
   "outputs": [],
   "source": [
    "#read the data\n",
    "data=pd.read_csv(\"Downloads/Churn.csv\")"
   ]
  },
  {
   "cell_type": "markdown",
   "metadata": {},
   "source": [
    "# Inspect Data"
   ]
  },
  {
   "cell_type": "code",
   "execution_count": 108,
   "metadata": {},
   "outputs": [
    {
     "name": "stdout",
     "output_type": "stream",
     "text": [
      "<class 'pandas.core.frame.DataFrame'>\n",
      "RangeIndex: 7043 entries, 0 to 7042\n",
      "Data columns (total 21 columns):\n",
      "customerID          7043 non-null object\n",
      "gender              7043 non-null object\n",
      "SeniorCitizen       7043 non-null int64\n",
      "Partner             7043 non-null object\n",
      "Dependents          7043 non-null object\n",
      "tenure              7043 non-null int64\n",
      "PhoneService        7043 non-null object\n",
      "MultipleLines       7043 non-null object\n",
      "InternetService     7043 non-null object\n",
      "OnlineSecurity      7043 non-null object\n",
      "OnlineBackup        7043 non-null object\n",
      "DeviceProtection    7043 non-null object\n",
      "TechSupport         7043 non-null object\n",
      "StreamingTV         7043 non-null object\n",
      "StreamingMovies     7043 non-null object\n",
      "Contract            7043 non-null object\n",
      "PaperlessBilling    7043 non-null object\n",
      "PaymentMethod       7043 non-null object\n",
      "MonthlyCharges      7043 non-null float64\n",
      "TotalCharges        7043 non-null object\n",
      "Churn               7043 non-null object\n",
      "dtypes: float64(1), int64(2), object(18)\n",
      "memory usage: 1.1+ MB\n"
     ]
    }
   ],
   "source": [
    "#inspect the data\n",
    "data.info()"
   ]
  },
  {
   "cell_type": "code",
   "execution_count": 109,
   "metadata": {},
   "outputs": [
    {
     "data": {
      "text/plain": [
       "(7043, 21)"
      ]
     },
     "execution_count": 109,
     "metadata": {},
     "output_type": "execute_result"
    }
   ],
   "source": [
    "data.shape"
   ]
  },
  {
   "cell_type": "code",
   "execution_count": 110,
   "metadata": {},
   "outputs": [
    {
     "data": {
      "text/plain": [
       "(7043, 21)"
      ]
     },
     "execution_count": 110,
     "metadata": {},
     "output_type": "execute_result"
    }
   ],
   "source": [
    "data=data.dropna()\n",
    "data.shape"
   ]
  },
  {
   "cell_type": "code",
   "execution_count": 111,
   "metadata": {},
   "outputs": [
    {
     "data": {
      "text/plain": [
       "customerID          0\n",
       "gender              0\n",
       "SeniorCitizen       0\n",
       "Partner             0\n",
       "Dependents          0\n",
       "tenure              0\n",
       "PhoneService        0\n",
       "MultipleLines       0\n",
       "InternetService     0\n",
       "OnlineSecurity      0\n",
       "OnlineBackup        0\n",
       "DeviceProtection    0\n",
       "TechSupport         0\n",
       "StreamingTV         0\n",
       "StreamingMovies     0\n",
       "Contract            0\n",
       "PaperlessBilling    0\n",
       "PaymentMethod       0\n",
       "MonthlyCharges      0\n",
       "TotalCharges        0\n",
       "Churn               0\n",
       "dtype: int64"
      ]
     },
     "execution_count": 111,
     "metadata": {},
     "output_type": "execute_result"
    }
   ],
   "source": [
    "#check for missing values\n",
    "data.isnull().sum()"
   ]
  },
  {
   "cell_type": "code",
   "execution_count": 112,
   "metadata": {},
   "outputs": [
    {
     "data": {
      "text/html": [
       "<div>\n",
       "<style scoped>\n",
       "    .dataframe tbody tr th:only-of-type {\n",
       "        vertical-align: middle;\n",
       "    }\n",
       "\n",
       "    .dataframe tbody tr th {\n",
       "        vertical-align: top;\n",
       "    }\n",
       "\n",
       "    .dataframe thead th {\n",
       "        text-align: right;\n",
       "    }\n",
       "</style>\n",
       "<table border=\"1\" class=\"dataframe\">\n",
       "  <thead>\n",
       "    <tr style=\"text-align: right;\">\n",
       "      <th></th>\n",
       "      <th>customerID</th>\n",
       "      <th>gender</th>\n",
       "      <th>SeniorCitizen</th>\n",
       "      <th>Partner</th>\n",
       "      <th>Dependents</th>\n",
       "      <th>tenure</th>\n",
       "      <th>PhoneService</th>\n",
       "      <th>MultipleLines</th>\n",
       "      <th>InternetService</th>\n",
       "      <th>OnlineSecurity</th>\n",
       "      <th>...</th>\n",
       "      <th>DeviceProtection</th>\n",
       "      <th>TechSupport</th>\n",
       "      <th>StreamingTV</th>\n",
       "      <th>StreamingMovies</th>\n",
       "      <th>Contract</th>\n",
       "      <th>PaperlessBilling</th>\n",
       "      <th>PaymentMethod</th>\n",
       "      <th>MonthlyCharges</th>\n",
       "      <th>TotalCharges</th>\n",
       "      <th>Churn</th>\n",
       "    </tr>\n",
       "  </thead>\n",
       "  <tbody>\n",
       "    <tr>\n",
       "      <th>0</th>\n",
       "      <td>7590-VHVEG</td>\n",
       "      <td>Female</td>\n",
       "      <td>0</td>\n",
       "      <td>Yes</td>\n",
       "      <td>No</td>\n",
       "      <td>1</td>\n",
       "      <td>No</td>\n",
       "      <td>No phone service</td>\n",
       "      <td>DSL</td>\n",
       "      <td>No</td>\n",
       "      <td>...</td>\n",
       "      <td>No</td>\n",
       "      <td>No</td>\n",
       "      <td>No</td>\n",
       "      <td>No</td>\n",
       "      <td>Month-to-month</td>\n",
       "      <td>Yes</td>\n",
       "      <td>Electronic check</td>\n",
       "      <td>29.85</td>\n",
       "      <td>29.85</td>\n",
       "      <td>No</td>\n",
       "    </tr>\n",
       "    <tr>\n",
       "      <th>1</th>\n",
       "      <td>5575-GNVDE</td>\n",
       "      <td>Male</td>\n",
       "      <td>0</td>\n",
       "      <td>No</td>\n",
       "      <td>No</td>\n",
       "      <td>34</td>\n",
       "      <td>Yes</td>\n",
       "      <td>No</td>\n",
       "      <td>DSL</td>\n",
       "      <td>Yes</td>\n",
       "      <td>...</td>\n",
       "      <td>Yes</td>\n",
       "      <td>No</td>\n",
       "      <td>No</td>\n",
       "      <td>No</td>\n",
       "      <td>One year</td>\n",
       "      <td>No</td>\n",
       "      <td>Mailed check</td>\n",
       "      <td>56.95</td>\n",
       "      <td>1889.5</td>\n",
       "      <td>No</td>\n",
       "    </tr>\n",
       "    <tr>\n",
       "      <th>2</th>\n",
       "      <td>3668-QPYBK</td>\n",
       "      <td>Male</td>\n",
       "      <td>0</td>\n",
       "      <td>No</td>\n",
       "      <td>No</td>\n",
       "      <td>2</td>\n",
       "      <td>Yes</td>\n",
       "      <td>No</td>\n",
       "      <td>DSL</td>\n",
       "      <td>Yes</td>\n",
       "      <td>...</td>\n",
       "      <td>No</td>\n",
       "      <td>No</td>\n",
       "      <td>No</td>\n",
       "      <td>No</td>\n",
       "      <td>Month-to-month</td>\n",
       "      <td>Yes</td>\n",
       "      <td>Mailed check</td>\n",
       "      <td>53.85</td>\n",
       "      <td>108.15</td>\n",
       "      <td>Yes</td>\n",
       "    </tr>\n",
       "    <tr>\n",
       "      <th>3</th>\n",
       "      <td>7795-CFOCW</td>\n",
       "      <td>Male</td>\n",
       "      <td>0</td>\n",
       "      <td>No</td>\n",
       "      <td>No</td>\n",
       "      <td>45</td>\n",
       "      <td>No</td>\n",
       "      <td>No phone service</td>\n",
       "      <td>DSL</td>\n",
       "      <td>Yes</td>\n",
       "      <td>...</td>\n",
       "      <td>Yes</td>\n",
       "      <td>Yes</td>\n",
       "      <td>No</td>\n",
       "      <td>No</td>\n",
       "      <td>One year</td>\n",
       "      <td>No</td>\n",
       "      <td>Bank transfer (automatic)</td>\n",
       "      <td>42.30</td>\n",
       "      <td>1840.75</td>\n",
       "      <td>No</td>\n",
       "    </tr>\n",
       "    <tr>\n",
       "      <th>4</th>\n",
       "      <td>9237-HQITU</td>\n",
       "      <td>Female</td>\n",
       "      <td>0</td>\n",
       "      <td>No</td>\n",
       "      <td>No</td>\n",
       "      <td>2</td>\n",
       "      <td>Yes</td>\n",
       "      <td>No</td>\n",
       "      <td>Fiber optic</td>\n",
       "      <td>No</td>\n",
       "      <td>...</td>\n",
       "      <td>No</td>\n",
       "      <td>No</td>\n",
       "      <td>No</td>\n",
       "      <td>No</td>\n",
       "      <td>Month-to-month</td>\n",
       "      <td>Yes</td>\n",
       "      <td>Electronic check</td>\n",
       "      <td>70.70</td>\n",
       "      <td>151.65</td>\n",
       "      <td>Yes</td>\n",
       "    </tr>\n",
       "  </tbody>\n",
       "</table>\n",
       "<p>5 rows × 21 columns</p>\n",
       "</div>"
      ],
      "text/plain": [
       "   customerID  gender  SeniorCitizen Partner Dependents  tenure PhoneService  \\\n",
       "0  7590-VHVEG  Female              0     Yes         No       1           No   \n",
       "1  5575-GNVDE    Male              0      No         No      34          Yes   \n",
       "2  3668-QPYBK    Male              0      No         No       2          Yes   \n",
       "3  7795-CFOCW    Male              0      No         No      45           No   \n",
       "4  9237-HQITU  Female              0      No         No       2          Yes   \n",
       "\n",
       "      MultipleLines InternetService OnlineSecurity  ... DeviceProtection  \\\n",
       "0  No phone service             DSL             No  ...               No   \n",
       "1                No             DSL            Yes  ...              Yes   \n",
       "2                No             DSL            Yes  ...               No   \n",
       "3  No phone service             DSL            Yes  ...              Yes   \n",
       "4                No     Fiber optic             No  ...               No   \n",
       "\n",
       "  TechSupport StreamingTV StreamingMovies        Contract PaperlessBilling  \\\n",
       "0          No          No              No  Month-to-month              Yes   \n",
       "1          No          No              No        One year               No   \n",
       "2          No          No              No  Month-to-month              Yes   \n",
       "3         Yes          No              No        One year               No   \n",
       "4          No          No              No  Month-to-month              Yes   \n",
       "\n",
       "               PaymentMethod MonthlyCharges  TotalCharges Churn  \n",
       "0           Electronic check          29.85         29.85    No  \n",
       "1               Mailed check          56.95        1889.5    No  \n",
       "2               Mailed check          53.85        108.15   Yes  \n",
       "3  Bank transfer (automatic)          42.30       1840.75    No  \n",
       "4           Electronic check          70.70        151.65   Yes  \n",
       "\n",
       "[5 rows x 21 columns]"
      ]
     },
     "execution_count": 112,
     "metadata": {},
     "output_type": "execute_result"
    }
   ],
   "source": [
    "data.head()"
   ]
  },
  {
   "cell_type": "markdown",
   "metadata": {},
   "source": [
    "# Feature Engineering"
   ]
  },
  {
   "cell_type": "code",
   "execution_count": 113,
   "metadata": {},
   "outputs": [],
   "source": [
    "\n",
    "#convert the datatype of Total Charges to Float\n",
    "data['TotalCharges']=pd.to_numeric(data['TotalCharges'], errors='coerce')"
   ]
  },
  {
   "cell_type": "code",
   "execution_count": 114,
   "metadata": {},
   "outputs": [
    {
     "data": {
      "text/plain": [
       "customerID           0\n",
       "gender               0\n",
       "SeniorCitizen        0\n",
       "Partner              0\n",
       "Dependents           0\n",
       "tenure               0\n",
       "PhoneService         0\n",
       "MultipleLines        0\n",
       "InternetService      0\n",
       "OnlineSecurity       0\n",
       "OnlineBackup         0\n",
       "DeviceProtection     0\n",
       "TechSupport          0\n",
       "StreamingTV          0\n",
       "StreamingMovies      0\n",
       "Contract             0\n",
       "PaperlessBilling     0\n",
       "PaymentMethod        0\n",
       "MonthlyCharges       0\n",
       "TotalCharges        11\n",
       "Churn                0\n",
       "dtype: int64"
      ]
     },
     "execution_count": 114,
     "metadata": {},
     "output_type": "execute_result"
    }
   ],
   "source": [
    "data.isnull().sum()"
   ]
  },
  {
   "cell_type": "code",
   "execution_count": 115,
   "metadata": {},
   "outputs": [
    {
     "data": {
      "text/plain": [
       "(7032, 21)"
      ]
     },
     "execution_count": 115,
     "metadata": {},
     "output_type": "execute_result"
    }
   ],
   "source": [
    "data=data.dropna()\n",
    "data.shape"
   ]
  },
  {
   "cell_type": "markdown",
   "metadata": {},
   "source": [
    "# Feature Selection"
   ]
  },
  {
   "cell_type": "code",
   "execution_count": 116,
   "metadata": {},
   "outputs": [],
   "source": [
    "#Drop Customer ID since it dies not add value to prediction\n",
    "data=data.drop(['customerID'],axis=1)"
   ]
  },
  {
   "cell_type": "code",
   "execution_count": 117,
   "metadata": {},
   "outputs": [
    {
     "name": "stdout",
     "output_type": "stream",
     "text": [
      "<class 'pandas.core.frame.DataFrame'>\n",
      "Int64Index: 7032 entries, 0 to 7042\n",
      "Data columns (total 20 columns):\n",
      "gender              7032 non-null object\n",
      "SeniorCitizen       7032 non-null int64\n",
      "Partner             7032 non-null object\n",
      "Dependents          7032 non-null object\n",
      "tenure              7032 non-null int64\n",
      "PhoneService        7032 non-null object\n",
      "MultipleLines       7032 non-null object\n",
      "InternetService     7032 non-null object\n",
      "OnlineSecurity      7032 non-null object\n",
      "OnlineBackup        7032 non-null object\n",
      "DeviceProtection    7032 non-null object\n",
      "TechSupport         7032 non-null object\n",
      "StreamingTV         7032 non-null object\n",
      "StreamingMovies     7032 non-null object\n",
      "Contract            7032 non-null object\n",
      "PaperlessBilling    7032 non-null object\n",
      "PaymentMethod       7032 non-null object\n",
      "MonthlyCharges      7032 non-null float64\n",
      "TotalCharges        7032 non-null float64\n",
      "Churn               7032 non-null object\n",
      "dtypes: float64(2), int64(2), object(16)\n",
      "memory usage: 1.1+ MB\n"
     ]
    }
   ],
   "source": [
    "data.info() "
   ]
  },
  {
   "cell_type": "code",
   "execution_count": 118,
   "metadata": {},
   "outputs": [],
   "source": [
    "#check for number of categories in columns\n",
    "col_dtypes=['int16','int32','int64','float16','float32','float64']\n",
    "data_new=data.select_dtypes(exclude=col_dtypes)"
   ]
  },
  {
   "cell_type": "code",
   "execution_count": 119,
   "metadata": {},
   "outputs": [],
   "source": [
    "data_int=data.select_dtypes(include=col_dtypes)"
   ]
  },
  {
   "cell_type": "code",
   "execution_count": 120,
   "metadata": {},
   "outputs": [
    {
     "data": {
      "text/plain": [
       "Index(['gender', 'Partner', 'Dependents', 'PhoneService', 'MultipleLines',\n",
       "       'InternetService', 'OnlineSecurity', 'OnlineBackup', 'DeviceProtection',\n",
       "       'TechSupport', 'StreamingTV', 'StreamingMovies', 'Contract',\n",
       "       'PaperlessBilling', 'PaymentMethod', 'Churn'],\n",
       "      dtype='object')"
      ]
     },
     "execution_count": 120,
     "metadata": {},
     "output_type": "execute_result"
    }
   ],
   "source": [
    "data_new.columns"
   ]
  },
  {
   "cell_type": "code",
   "execution_count": 121,
   "metadata": {},
   "outputs": [
    {
     "name": "stdout",
     "output_type": "stream",
     "text": [
      "gender: 2\n",
      "Partner: 2\n",
      "Dependents: 2\n",
      "PhoneService: 2\n",
      "MultipleLines: 3\n",
      "InternetService: 3\n",
      "OnlineSecurity: 3\n",
      "OnlineBackup: 3\n",
      "DeviceProtection: 3\n",
      "TechSupport: 3\n",
      "StreamingTV: 3\n",
      "StreamingMovies: 3\n",
      "Contract: 3\n",
      "PaperlessBilling: 2\n",
      "PaymentMethod: 4\n",
      "Churn: 2\n"
     ]
    }
   ],
   "source": [
    "for i in data_new.columns:\n",
    "    print(str(i)+\": \"+str(len(data_new[i].value_counts())))"
   ]
  },
  {
   "cell_type": "code",
   "execution_count": 122,
   "metadata": {},
   "outputs": [
    {
     "name": "stdout",
     "output_type": "stream",
     "text": [
      "Index(['gender', 'SeniorCitizen', 'Partner', 'Dependents', 'tenure',\n",
      "       'PhoneService', 'MultipleLines', 'InternetService', 'OnlineSecurity',\n",
      "       'OnlineBackup', 'DeviceProtection', 'TechSupport', 'StreamingTV',\n",
      "       'StreamingMovies', 'Contract', 'PaperlessBilling', 'PaymentMethod',\n",
      "       'MonthlyCharges', 'TotalCharges', 'Churn'],\n",
      "      dtype='object')\n"
     ]
    }
   ],
   "source": [
    "#Label Encoding for categories \n",
    "from sklearn.preprocessing import LabelEncoder\n",
    "print(data.columns)\n",
    "#convert data into array\n",
    "data=data.values"
   ]
  },
  {
   "cell_type": "code",
   "execution_count": 123,
   "metadata": {},
   "outputs": [
    {
     "data": {
      "text/plain": [
       "array([['Female', 0, 'Yes', 'No', 1, 'No', 'No phone service', 'DSL',\n",
       "        'No', 'Yes', 'No', 'No', 'No', 'No', 'Month-to-month', 'Yes',\n",
       "        'Electronic check', 29.85, 29.85, 'No']], dtype=object)"
      ]
     },
     "execution_count": 123,
     "metadata": {},
     "output_type": "execute_result"
    }
   ],
   "source": [
    "data[:1,:]"
   ]
  },
  {
   "cell_type": "code",
   "execution_count": 124,
   "metadata": {},
   "outputs": [],
   "source": [
    "gender=LabelEncoder()\n",
    "data[:,0] = gender.fit_transform(data[:,0])\n",
    "partner=LabelEncoder()\n",
    "data[:,2] = partner.fit_transform(data[:,2])\n",
    "dependents=LabelEncoder()\n",
    "data[:,3] = dependents.fit_transform(data[:,3])\n",
    "phone_service=LabelEncoder()\n",
    "data[:,5] = phone_service.fit_transform(data[:,5])\n",
    "multiple_lines=LabelEncoder()\n",
    "data[:,6] = multiple_lines.fit_transform(data[:,6])\n",
    "internet_service=LabelEncoder()\n",
    "data[:,7] = internet_service.fit_transform(data[:,7])\n",
    "online_security=LabelEncoder()\n",
    "data[:,8] =online_security.fit_transform(data[:,8])\n",
    "online_backup=LabelEncoder()\n",
    "data[:,9] =online_backup.fit_transform(data[:,9])\n",
    "device_protection=LabelEncoder()\n",
    "data[:,10] =device_protection.fit_transform(data[:,10])\n",
    "tech_support=LabelEncoder()\n",
    "data[:,11] =tech_support.fit_transform(data[:,11])\n",
    "streaming_tv=LabelEncoder()\n",
    "data[:,12] =streaming_tv.fit_transform(data[:,12])\n",
    "streaming_movies=LabelEncoder()\n",
    "data[:,13] =streaming_movies.fit_transform(data[:,13])\n",
    "contract=LabelEncoder()\n",
    "data[:,14] =contract.fit_transform(data[:,14])\n",
    "paperless_billing=LabelEncoder()\n",
    "data[:,15] =paperless_billing.fit_transform(data[:,15])\n",
    "payment_method=LabelEncoder()\n",
    "data[:,16] =payment_method.fit_transform(data[:,16])\n",
    "churn=LabelEncoder()\n",
    "data[:,-1]=churn.fit_transform(data[:,-1])"
   ]
  },
  {
   "cell_type": "code",
   "execution_count": 125,
   "metadata": {},
   "outputs": [
    {
     "data": {
      "text/plain": [
       "array([[0, 0, 1, 0, 1, 0, 1, 0, 0, 2, 0, 0, 0, 0, 0, 1, 2, 29.85, 29.85,\n",
       "        0]], dtype=object)"
      ]
     },
     "execution_count": 125,
     "metadata": {},
     "output_type": "execute_result"
    }
   ],
   "source": [
    "#examing the encoded data\n",
    "data[:1]"
   ]
  },
  {
   "cell_type": "markdown",
   "metadata": {},
   "source": [
    "# Split Data"
   ]
  },
  {
   "cell_type": "code",
   "execution_count": 126,
   "metadata": {},
   "outputs": [],
   "source": [
    "from sklearn.model_selection import train_test_split\n",
    "\n",
    "X=data[:,:-1]\n",
    "y=data[:,-1]\n",
    "y=y.astype('int')"
   ]
  },
  {
   "cell_type": "code",
   "execution_count": 127,
   "metadata": {},
   "outputs": [],
   "source": [
    "X_train,X_test,y_train,y_test=train_test_split(X,y,random_state=43,test_size=0.4)"
   ]
  },
  {
   "cell_type": "code",
   "execution_count": 128,
   "metadata": {},
   "outputs": [
    {
     "name": "stdout",
     "output_type": "stream",
     "text": [
      "X_train shape:  (4219, 19)\n",
      "X_test shape:  (2813, 19)\n",
      "y_train shape:  (4219,)\n",
      "y_test shape:  (2813,)\n"
     ]
    }
   ],
   "source": [
    "print(\"X_train shape: \",X_train.shape)\n",
    "print(\"X_test shape: \",X_test.shape)\n",
    "print(\"y_train shape: \",y_train.shape)\n",
    "print(\"y_test shape: \",y_test.shape)"
   ]
  },
  {
   "cell_type": "markdown",
   "metadata": {},
   "source": [
    "# Build model"
   ]
  },
  {
   "cell_type": "code",
   "execution_count": 129,
   "metadata": {},
   "outputs": [],
   "source": [
    "from sklearn.linear_model import LogisticRegression\n",
    "log_reg=LogisticRegression()"
   ]
  },
  {
   "cell_type": "code",
   "execution_count": 130,
   "metadata": {},
   "outputs": [
    {
     "name": "stderr",
     "output_type": "stream",
     "text": [
      "/anaconda3/lib/python3.7/site-packages/sklearn/linear_model/logistic.py:433: FutureWarning: Default solver will be changed to 'lbfgs' in 0.22. Specify a solver to silence this warning.\n",
      "  FutureWarning)\n"
     ]
    },
    {
     "data": {
      "text/plain": [
       "LogisticRegression(C=1.0, class_weight=None, dual=False, fit_intercept=True,\n",
       "          intercept_scaling=1, max_iter=100, multi_class='warn',\n",
       "          n_jobs=None, penalty='l2', random_state=None, solver='warn',\n",
       "          tol=0.0001, verbose=0, warm_start=False)"
      ]
     },
     "execution_count": 130,
     "metadata": {},
     "output_type": "execute_result"
    }
   ],
   "source": [
    "log_reg.fit(X_train,y_train)"
   ]
  },
  {
   "cell_type": "code",
   "execution_count": 131,
   "metadata": {},
   "outputs": [],
   "source": [
    "pred=log_reg.predict(X_test)"
   ]
  },
  {
   "cell_type": "code",
   "execution_count": 132,
   "metadata": {},
   "outputs": [
    {
     "name": "stdout",
     "output_type": "stream",
     "text": [
      "Mean Squared Error:  0.1983647351581941\n"
     ]
    }
   ],
   "source": [
    "from sklearn.metrics import mean_squared_error,accuracy_score\n",
    "print(\"Mean Squared Error: \",mean_squared_error(y_test,pred))"
   ]
  },
  {
   "cell_type": "code",
   "execution_count": 133,
   "metadata": {},
   "outputs": [
    {
     "name": "stdout",
     "output_type": "stream",
     "text": [
      "Accuracy Score:  0.8016352648418059\n"
     ]
    }
   ],
   "source": [
    "print(\"Accuracy Score: \",accuracy_score(y_test,pred))"
   ]
  },
  {
   "cell_type": "markdown",
   "metadata": {},
   "source": [
    "# Select column which contribute more to prediction using roc "
   ]
  },
  {
   "cell_type": "code",
   "execution_count": 136,
   "metadata": {},
   "outputs": [
    {
     "name": "stdout",
     "output_type": "stream",
     "text": [
      "     gender SeniorCitizen Partner Dependents tenure PhoneService  \\\n",
      "0         0             0       1          0      1            0   \n",
      "1         1             0       0          0     34            1   \n",
      "2         1             0       0          0      2            1   \n",
      "3         1             0       0          0     45            0   \n",
      "4         0             0       0          0      2            1   \n",
      "5         0             0       0          0      8            1   \n",
      "6         1             0       0          1     22            1   \n",
      "7         0             0       0          0     10            0   \n",
      "8         0             0       1          0     28            1   \n",
      "9         1             0       0          1     62            1   \n",
      "10        1             0       1          1     13            1   \n",
      "11        1             0       0          0     16            1   \n",
      "12        1             0       1          0     58            1   \n",
      "13        1             0       0          0     49            1   \n",
      "14        1             0       0          0     25            1   \n",
      "15        0             0       1          1     69            1   \n",
      "16        0             0       0          0     52            1   \n",
      "17        1             0       0          1     71            1   \n",
      "18        0             0       1          1     10            1   \n",
      "19        0             0       0          0     21            1   \n",
      "20        1             1       0          0      1            0   \n",
      "21        1             0       1          0     12            1   \n",
      "22        1             0       0          0      1            1   \n",
      "23        0             0       1          0     58            1   \n",
      "24        1             0       1          1     49            1   \n",
      "25        0             0       0          0     30            1   \n",
      "26        1             0       1          1     47            1   \n",
      "27        1             0       1          1      1            0   \n",
      "28        1             0       1          0     72            1   \n",
      "29        0             0       0          1     17            1   \n",
      "...     ...           ...     ...        ...    ...          ...   \n",
      "7002      0             0       0          0     40            1   \n",
      "7003      1             0       0          0     41            1   \n",
      "7004      1             1       1          0     34            1   \n",
      "7005      0             0       0          0      1            1   \n",
      "7006      0             0       0          0     51            1   \n",
      "7007      1             0       1          1      1            1   \n",
      "7008      0             0       0          0     39            1   \n",
      "7009      1             0       1          1     12            1   \n",
      "7010      1             0       0          0     12            1   \n",
      "7011      1             0       0          0     72            1   \n",
      "7012      0             1       1          0     63            1   \n",
      "7013      1             0       1          0     44            1   \n",
      "7014      0             0       0          0     18            1   \n",
      "7015      0             0       0          0      9            1   \n",
      "7016      1             0       0          0     13            1   \n",
      "7017      0             0       1          0     68            1   \n",
      "7018      0             1       0          0      6            0   \n",
      "7019      0             0       0          0      2            1   \n",
      "7020      1             1       1          0     55            1   \n",
      "7021      1             1       0          0      1            1   \n",
      "7022      1             0       0          0     38            1   \n",
      "7023      0             0       0          0     67            1   \n",
      "7024      1             0       0          0     19            1   \n",
      "7025      0             0       0          0     12            0   \n",
      "7026      0             0       0          0     72            1   \n",
      "7027      1             0       1          1     24            1   \n",
      "7028      0             0       1          1     72            1   \n",
      "7029      0             0       1          1     11            0   \n",
      "7030      1             1       1          0      4            1   \n",
      "7031      1             0       0          0     66            1   \n",
      "\n",
      "     MultipleLines InternetService OnlineSecurity OnlineBackup  \\\n",
      "0                1               0              0            2   \n",
      "1                0               0              2            0   \n",
      "2                0               0              2            2   \n",
      "3                1               0              2            0   \n",
      "4                0               1              0            0   \n",
      "5                2               1              0            0   \n",
      "6                2               1              0            2   \n",
      "7                1               0              2            0   \n",
      "8                2               1              0            0   \n",
      "9                0               0              2            2   \n",
      "10               0               0              2            0   \n",
      "11               0               2              1            1   \n",
      "12               2               1              0            0   \n",
      "13               2               1              0            2   \n",
      "14               0               1              2            0   \n",
      "15               2               1              2            2   \n",
      "16               0               2              1            1   \n",
      "17               2               1              2            0   \n",
      "18               0               0              0            0   \n",
      "19               0               1              0            2   \n",
      "20               1               0              0            0   \n",
      "21               0               2              1            1   \n",
      "22               0               2              1            1   \n",
      "23               2               0              0            2   \n",
      "24               0               0              2            2   \n",
      "25               0               0              2            2   \n",
      "26               2               1              0            2   \n",
      "27               1               0              0            2   \n",
      "28               2               0              2            2   \n",
      "29               0               0              0            0   \n",
      "...            ...             ...            ...          ...   \n",
      "7002             2               1              0            2   \n",
      "7003             2               1              0            2   \n",
      "7004             0               1              0            0   \n",
      "7005             0               0              0            2   \n",
      "7006             0               2              1            1   \n",
      "7007             0               1              0            0   \n",
      "7008             0               2              1            1   \n",
      "7009             0               2              1            1   \n",
      "7010             0               0              0            0   \n",
      "7011             2               1              0            2   \n",
      "7012             2               1              0            2   \n",
      "7013             2               1              2            0   \n",
      "7014             2               1              0            0   \n",
      "7015             0               0              0            0   \n",
      "7016             0               0              0            2   \n",
      "7017             0               0              0            2   \n",
      "7018             1               0              0            0   \n",
      "7019             0               2              1            1   \n",
      "7020             2               0              2            2   \n",
      "7021             2               1              0            0   \n",
      "7022             0               1              0            0   \n",
      "7023             2               1              2            2   \n",
      "7024             0               1              0            0   \n",
      "7025             1               0              0            2   \n",
      "7026             0               2              1            1   \n",
      "7027             2               0              2            0   \n",
      "7028             2               1              0            2   \n",
      "7029             1               0              2            0   \n",
      "7030             2               1              0            0   \n",
      "7031             0               1              2            0   \n",
      "\n",
      "     DeviceProtection TechSupport StreamingTV StreamingMovies Contract  \\\n",
      "0                   0           0           0               0        0   \n",
      "1                   2           0           0               0        1   \n",
      "2                   0           0           0               0        0   \n",
      "3                   2           2           0               0        1   \n",
      "4                   0           0           0               0        0   \n",
      "5                   2           0           2               2        0   \n",
      "6                   0           0           2               0        0   \n",
      "7                   0           0           0               0        0   \n",
      "8                   2           2           2               2        0   \n",
      "9                   0           0           0               0        1   \n",
      "10                  0           0           0               0        0   \n",
      "11                  1           1           1               1        2   \n",
      "12                  2           0           2               2        1   \n",
      "13                  2           0           2               2        0   \n",
      "14                  2           2           2               2        0   \n",
      "15                  2           2           2               2        2   \n",
      "16                  1           1           1               1        1   \n",
      "17                  2           0           2               2        2   \n",
      "18                  2           2           0               0        0   \n",
      "19                  2           0           0               2        0   \n",
      "20                  2           0           0               2        0   \n",
      "21                  1           1           1               1        1   \n",
      "22                  1           1           1               1        0   \n",
      "23                  0           2           0               0        2   \n",
      "24                  0           2           0               0        0   \n",
      "25                  0           0           0               0        0   \n",
      "26                  0           0           2               2        0   \n",
      "27                  0           0           0               0        0   \n",
      "28                  2           2           2               2        2   \n",
      "29                  0           0           2               2        0   \n",
      "...               ...         ...         ...             ...      ...   \n",
      "7002                2           0           2               0        0   \n",
      "7003                0           0           2               0        0   \n",
      "7004                2           0           2               0        0   \n",
      "7005                0           0           0               0        0   \n",
      "7006                1           1           1               1        2   \n",
      "7007                0           0           0               0        0   \n",
      "7008                1           1           1               1        2   \n",
      "7009                1           1           1               1        0   \n",
      "7010                0           2           2               0        1   \n",
      "7011                2           0           2               2        1   \n",
      "7012                2           0           2               2        0   \n",
      "7013                2           0           0               0        0   \n",
      "7014                2           2           0               2        0   \n",
      "7015                0           0           0               0        0   \n",
      "7016                0           2           2               2        0   \n",
      "7017                0           2           2               0        2   \n",
      "7018                0           0           2               2        0   \n",
      "7019                1           1           1               1        0   \n",
      "7020                0           0           0               0        1   \n",
      "7021                0           0           0               0        0   \n",
      "7022                0           0           0               0        0   \n",
      "7023                2           0           2               0        0   \n",
      "7024                0           0           2               0        0   \n",
      "7025                2           2           2               2        1   \n",
      "7026                1           1           1               1        2   \n",
      "7027                2           2           2               2        1   \n",
      "7028                2           0           2               2        1   \n",
      "7029                0           0           0               0        0   \n",
      "7030                0           0           0               0        0   \n",
      "7031                2           2           2               2        2   \n",
      "\n",
      "     PaperlessBilling PaymentMethod MonthlyCharges TotalCharges churn  \n",
      "0                   1             2          29.85        29.85     0  \n",
      "1                   0             3          56.95       1889.5     0  \n",
      "2                   1             3          53.85       108.15     1  \n",
      "3                   0             0           42.3      1840.75     0  \n",
      "4                   1             2           70.7       151.65     1  \n",
      "5                   1             2          99.65        820.5     1  \n",
      "6                   1             1           89.1       1949.4     0  \n",
      "7                   0             3          29.75        301.9     0  \n",
      "8                   1             2          104.8      3046.05     1  \n",
      "9                   0             0          56.15      3487.95     0  \n",
      "10                  1             3          49.95       587.45     0  \n",
      "11                  0             1          18.95        326.8     0  \n",
      "12                  0             1         100.35       5681.1     0  \n",
      "13                  1             0          103.7       5036.3     1  \n",
      "14                  1             2          105.5      2686.05     0  \n",
      "15                  0             1         113.25      7895.15     0  \n",
      "16                  0             3          20.65      1022.95     0  \n",
      "17                  0             0          106.7      7382.25     0  \n",
      "18                  0             1           55.2       528.35     1  \n",
      "19                  1             2          90.05       1862.9     0  \n",
      "20                  1             2          39.65        39.65     1  \n",
      "21                  0             0           19.8       202.25     0  \n",
      "22                  0             3          20.15        20.15     1  \n",
      "23                  1             1           59.9       3505.1     0  \n",
      "24                  0             1           59.6       2970.3     0  \n",
      "25                  1             0           55.3       1530.6     0  \n",
      "26                  1             2          99.35      4749.15     1  \n",
      "27                  0             2           30.2         30.2     1  \n",
      "28                  1             1          90.25      6369.45     0  \n",
      "29                  1             3           64.7       1093.1     1  \n",
      "...               ...           ...            ...          ...   ...  \n",
      "7002                1             0           93.4       3756.4     0  \n",
      "7003                1             2           89.2      3645.75     0  \n",
      "7004                1             1           85.2      2874.45     0  \n",
      "7005                0             2          49.95        49.95     0  \n",
      "7006                0             0          20.65      1020.75     0  \n",
      "7007                1             3          70.65        70.65     1  \n",
      "7008                0             3          20.15          826     0  \n",
      "7009                1             2           19.2          239     0  \n",
      "7010                1             2           59.8        727.8     1  \n",
      "7011                1             2         104.95       7544.3     0  \n",
      "7012                1             2          103.5       6479.4     0  \n",
      "7013                1             1           84.8      3626.35     0  \n",
      "7014                1             0          95.05       1679.4     0  \n",
      "7015                1             0           44.2       403.35     1  \n",
      "7016                0             3          73.35       931.55     0  \n",
      "7017                0             0           64.1      4326.25     0  \n",
      "7018                1             2           44.4       263.05     0  \n",
      "7019                1             3          20.05        39.25     0  \n",
      "7020                0             1             60       3316.1     0  \n",
      "7021                1             2          75.75        75.75     1  \n",
      "7022                1             1           69.5      2625.25     0  \n",
      "7023                1             1         102.95      6886.25     1  \n",
      "7024                1             0           78.7       1495.1     0  \n",
      "7025                0             2          60.65        743.3     0  \n",
      "7026                1             0          21.15       1419.4     0  \n",
      "7027                1             3           84.8       1990.5     0  \n",
      "7028                1             1          103.2       7362.9     0  \n",
      "7029                1             2           29.6       346.45     0  \n",
      "7030                1             3           74.4        306.6     1  \n",
      "7031                1             0         105.65       6844.5     0  \n",
      "\n",
      "[7032 rows x 20 columns]\n"
     ]
    }
   ],
   "source": [
    "predictors=['gender', 'SeniorCitizen', 'Partner', 'Dependents', 'tenure',\n",
    "       'PhoneService', 'MultipleLines', 'InternetService', 'OnlineSecurity',\n",
    "       'OnlineBackup', 'DeviceProtection', 'TechSupport', 'StreamingTV',\n",
    "       'StreamingMovies', 'Contract', 'PaperlessBilling', 'PaymentMethod',\n",
    "       'MonthlyCharges', 'TotalCharges']\n",
    "target=['churn']\n",
    "data=pd.DataFrame(data)\n",
    "data.columns=[predictors+target]\n",
    "print(data)"
   ]
  },
  {
   "cell_type": "code",
   "execution_count": 228,
   "metadata": {},
   "outputs": [],
   "source": [
    "from sklearn.metrics import roc_auc_score\n",
    "from sklearn.linear_model import LogisticRegression\n",
    "auc=[]\n",
    "\n",
    "def funct(predictors,target,data):\n",
    "   \n",
    "       \n",
    "        X=data[predictors].values\n",
    "        y=data[target].values\n",
    "        y=y.astype('int')\n",
    "        log_reg=LogisticRegression()\n",
    "        X_train,X_test,y_train,y_test=train_test_split(X,y,test_size=0.3,random_state=42)\n",
    "        log_reg.fit(X_train,y_train)\n",
    "        y_pred = log_reg.predict_proba(X_test)[:,1]\n",
    "        auc_roc=roc_auc_score(y_test,y_pred)\n",
    "        auc.append(auc_roc)\n",
    "        return auc_roc\n",
    "        \n",
    "    \n",
    "        \n",
    " "
   ]
  },
  {
   "cell_type": "code",
   "execution_count": 233,
   "metadata": {},
   "outputs": [
    {
     "name": "stderr",
     "output_type": "stream",
     "text": [
      "/anaconda3/lib/python3.7/site-packages/sklearn/linear_model/logistic.py:433: FutureWarning: Default solver will be changed to 'lbfgs' in 0.22. Specify a solver to silence this warning.\n",
      "  FutureWarning)\n",
      "/anaconda3/lib/python3.7/site-packages/sklearn/utils/validation.py:761: DataConversionWarning: A column-vector y was passed when a 1d array was expected. Please change the shape of y to (n_samples, ), for example using ravel().\n",
      "  y = column_or_1d(y, warn=True)\n",
      "/anaconda3/lib/python3.7/site-packages/sklearn/linear_model/logistic.py:433: FutureWarning: Default solver will be changed to 'lbfgs' in 0.22. Specify a solver to silence this warning.\n",
      "  FutureWarning)\n",
      "/anaconda3/lib/python3.7/site-packages/sklearn/utils/validation.py:761: DataConversionWarning: A column-vector y was passed when a 1d array was expected. Please change the shape of y to (n_samples, ), for example using ravel().\n",
      "  y = column_or_1d(y, warn=True)\n",
      "/anaconda3/lib/python3.7/site-packages/sklearn/linear_model/logistic.py:433: FutureWarning: Default solver will be changed to 'lbfgs' in 0.22. Specify a solver to silence this warning.\n",
      "  FutureWarning)\n",
      "/anaconda3/lib/python3.7/site-packages/sklearn/utils/validation.py:761: DataConversionWarning: A column-vector y was passed when a 1d array was expected. Please change the shape of y to (n_samples, ), for example using ravel().\n",
      "  y = column_or_1d(y, warn=True)\n",
      "/anaconda3/lib/python3.7/site-packages/sklearn/linear_model/logistic.py:433: FutureWarning: Default solver will be changed to 'lbfgs' in 0.22. Specify a solver to silence this warning.\n",
      "  FutureWarning)\n",
      "/anaconda3/lib/python3.7/site-packages/sklearn/utils/validation.py:761: DataConversionWarning: A column-vector y was passed when a 1d array was expected. Please change the shape of y to (n_samples, ), for example using ravel().\n",
      "  y = column_or_1d(y, warn=True)\n",
      "/anaconda3/lib/python3.7/site-packages/sklearn/linear_model/logistic.py:433: FutureWarning: Default solver will be changed to 'lbfgs' in 0.22. Specify a solver to silence this warning.\n",
      "  FutureWarning)\n",
      "/anaconda3/lib/python3.7/site-packages/sklearn/utils/validation.py:761: DataConversionWarning: A column-vector y was passed when a 1d array was expected. Please change the shape of y to (n_samples, ), for example using ravel().\n",
      "  y = column_or_1d(y, warn=True)\n",
      "/anaconda3/lib/python3.7/site-packages/sklearn/linear_model/logistic.py:433: FutureWarning: Default solver will be changed to 'lbfgs' in 0.22. Specify a solver to silence this warning.\n",
      "  FutureWarning)\n",
      "/anaconda3/lib/python3.7/site-packages/sklearn/utils/validation.py:761: DataConversionWarning: A column-vector y was passed when a 1d array was expected. Please change the shape of y to (n_samples, ), for example using ravel().\n",
      "  y = column_or_1d(y, warn=True)\n",
      "/anaconda3/lib/python3.7/site-packages/sklearn/linear_model/logistic.py:433: FutureWarning: Default solver will be changed to 'lbfgs' in 0.22. Specify a solver to silence this warning.\n",
      "  FutureWarning)\n",
      "/anaconda3/lib/python3.7/site-packages/sklearn/utils/validation.py:761: DataConversionWarning: A column-vector y was passed when a 1d array was expected. Please change the shape of y to (n_samples, ), for example using ravel().\n",
      "  y = column_or_1d(y, warn=True)\n",
      "/anaconda3/lib/python3.7/site-packages/sklearn/linear_model/logistic.py:433: FutureWarning: Default solver will be changed to 'lbfgs' in 0.22. Specify a solver to silence this warning.\n",
      "  FutureWarning)\n",
      "/anaconda3/lib/python3.7/site-packages/sklearn/utils/validation.py:761: DataConversionWarning: A column-vector y was passed when a 1d array was expected. Please change the shape of y to (n_samples, ), for example using ravel().\n",
      "  y = column_or_1d(y, warn=True)\n",
      "/anaconda3/lib/python3.7/site-packages/sklearn/linear_model/logistic.py:433: FutureWarning: Default solver will be changed to 'lbfgs' in 0.22. Specify a solver to silence this warning.\n",
      "  FutureWarning)\n",
      "/anaconda3/lib/python3.7/site-packages/sklearn/utils/validation.py:761: DataConversionWarning: A column-vector y was passed when a 1d array was expected. Please change the shape of y to (n_samples, ), for example using ravel().\n",
      "  y = column_or_1d(y, warn=True)\n"
     ]
    },
    {
     "name": "stdout",
     "output_type": "stream",
     "text": [
      "0.4977934128049953\n",
      "-1\n",
      "gender\n",
      "0.5583632243906425\n",
      "0.4977934128049953\n",
      "SeniorCitizen\n",
      "0.6264889428980114\n",
      "0.5583632243906425\n",
      "Partner\n",
      "0.6321760114339767\n",
      "0.6264889428980114\n",
      "Dependents\n",
      "0.7516130814083952\n",
      "0.6321760114339767\n",
      "tenure\n",
      "0.7697669360601803\n",
      "0.7516130814083952\n",
      "MultipleLines\n",
      "0.770093752625177\n",
      "0.7697669360601803\n",
      "InternetService\n",
      "0.7866814194425936\n",
      "0.770093752625177\n",
      "OnlineSecurity\n",
      "0.7885329963900578\n",
      "0.7866814194425936\n",
      "OnlineBackup\n",
      "0.7889006650256793\n",
      "0.7885329963900578\n",
      "DeviceProtection\n",
      "0.7952678342303527\n",
      "0.7889006650256793\n",
      "TechSupport\n",
      "0.7994796251736211\n",
      "0.7952678342303527\n",
      "StreamingTV\n",
      "0.8008950631135722\n",
      "0.7994796251736211\n",
      "StreamingMovies\n"
     ]
    },
    {
     "name": "stderr",
     "output_type": "stream",
     "text": [
      "/anaconda3/lib/python3.7/site-packages/sklearn/linear_model/logistic.py:433: FutureWarning: Default solver will be changed to 'lbfgs' in 0.22. Specify a solver to silence this warning.\n",
      "  FutureWarning)\n",
      "/anaconda3/lib/python3.7/site-packages/sklearn/utils/validation.py:761: DataConversionWarning: A column-vector y was passed when a 1d array was expected. Please change the shape of y to (n_samples, ), for example using ravel().\n",
      "  y = column_or_1d(y, warn=True)\n",
      "/anaconda3/lib/python3.7/site-packages/sklearn/linear_model/logistic.py:433: FutureWarning: Default solver will be changed to 'lbfgs' in 0.22. Specify a solver to silence this warning.\n",
      "  FutureWarning)\n",
      "/anaconda3/lib/python3.7/site-packages/sklearn/utils/validation.py:761: DataConversionWarning: A column-vector y was passed when a 1d array was expected. Please change the shape of y to (n_samples, ), for example using ravel().\n",
      "  y = column_or_1d(y, warn=True)\n",
      "/anaconda3/lib/python3.7/site-packages/sklearn/linear_model/logistic.py:433: FutureWarning: Default solver will be changed to 'lbfgs' in 0.22. Specify a solver to silence this warning.\n",
      "  FutureWarning)\n",
      "/anaconda3/lib/python3.7/site-packages/sklearn/utils/validation.py:761: DataConversionWarning: A column-vector y was passed when a 1d array was expected. Please change the shape of y to (n_samples, ), for example using ravel().\n",
      "  y = column_or_1d(y, warn=True)\n",
      "/anaconda3/lib/python3.7/site-packages/sklearn/linear_model/logistic.py:433: FutureWarning: Default solver will be changed to 'lbfgs' in 0.22. Specify a solver to silence this warning.\n",
      "  FutureWarning)\n",
      "/anaconda3/lib/python3.7/site-packages/sklearn/utils/validation.py:761: DataConversionWarning: A column-vector y was passed when a 1d array was expected. Please change the shape of y to (n_samples, ), for example using ravel().\n",
      "  y = column_or_1d(y, warn=True)\n",
      "/anaconda3/lib/python3.7/site-packages/sklearn/linear_model/logistic.py:433: FutureWarning: Default solver will be changed to 'lbfgs' in 0.22. Specify a solver to silence this warning.\n",
      "  FutureWarning)\n",
      "/anaconda3/lib/python3.7/site-packages/sklearn/utils/validation.py:761: DataConversionWarning: A column-vector y was passed when a 1d array was expected. Please change the shape of y to (n_samples, ), for example using ravel().\n",
      "  y = column_or_1d(y, warn=True)\n",
      "/anaconda3/lib/python3.7/site-packages/sklearn/linear_model/logistic.py:433: FutureWarning: Default solver will be changed to 'lbfgs' in 0.22. Specify a solver to silence this warning.\n",
      "  FutureWarning)\n",
      "/anaconda3/lib/python3.7/site-packages/sklearn/utils/validation.py:761: DataConversionWarning: A column-vector y was passed when a 1d array was expected. Please change the shape of y to (n_samples, ), for example using ravel().\n",
      "  y = column_or_1d(y, warn=True)\n"
     ]
    },
    {
     "name": "stdout",
     "output_type": "stream",
     "text": [
      "0.8155028429588869\n",
      "0.8008950631135722\n",
      "Contract\n",
      "0.8241790172257647\n",
      "0.8155028429588869\n",
      "PaperlessBilling\n",
      "0.8351676488425055\n",
      "0.8241790172257647\n",
      "MonthlyCharges\n",
      "0.8378920791862728\n",
      "0.8351676488425055\n",
      "TotalCharges\n"
     ]
    },
    {
     "name": "stderr",
     "output_type": "stream",
     "text": [
      "/anaconda3/lib/python3.7/site-packages/sklearn/linear_model/logistic.py:433: FutureWarning: Default solver will be changed to 'lbfgs' in 0.22. Specify a solver to silence this warning.\n",
      "  FutureWarning)\n",
      "/anaconda3/lib/python3.7/site-packages/sklearn/utils/validation.py:761: DataConversionWarning: A column-vector y was passed when a 1d array was expected. Please change the shape of y to (n_samples, ), for example using ravel().\n",
      "  y = column_or_1d(y, warn=True)\n",
      "/anaconda3/lib/python3.7/site-packages/sklearn/linear_model/logistic.py:433: FutureWarning: Default solver will be changed to 'lbfgs' in 0.22. Specify a solver to silence this warning.\n",
      "  FutureWarning)\n",
      "/anaconda3/lib/python3.7/site-packages/sklearn/utils/validation.py:761: DataConversionWarning: A column-vector y was passed when a 1d array was expected. Please change the shape of y to (n_samples, ), for example using ravel().\n",
      "  y = column_or_1d(y, warn=True)\n",
      "/anaconda3/lib/python3.7/site-packages/sklearn/linear_model/logistic.py:433: FutureWarning: Default solver will be changed to 'lbfgs' in 0.22. Specify a solver to silence this warning.\n",
      "  FutureWarning)\n",
      "/anaconda3/lib/python3.7/site-packages/sklearn/utils/validation.py:761: DataConversionWarning: A column-vector y was passed when a 1d array was expected. Please change the shape of y to (n_samples, ), for example using ravel().\n",
      "  y = column_or_1d(y, warn=True)\n",
      "/anaconda3/lib/python3.7/site-packages/sklearn/linear_model/logistic.py:433: FutureWarning: Default solver will be changed to 'lbfgs' in 0.22. Specify a solver to silence this warning.\n",
      "  FutureWarning)\n",
      "/anaconda3/lib/python3.7/site-packages/sklearn/utils/validation.py:761: DataConversionWarning: A column-vector y was passed when a 1d array was expected. Please change the shape of y to (n_samples, ), for example using ravel().\n",
      "  y = column_or_1d(y, warn=True)\n"
     ]
    }
   ],
   "source": [
    "cur_var=[]\n",
    "aucc_list=[]\n",
    "best_score=-1\n",
    "for i in range(len(predictors)):\n",
    "    \n",
    "    \n",
    "    pred=[predictors[:i+1]]\n",
    "    aucc=funct(pred,target,data)\n",
    "    aucc_list.append(aucc)\n",
    "    if aucc>best_score:\n",
    "        print(aucc)\n",
    "        print(best_score)\n",
    "        print(predictors[i])\n",
    "        cur_var.append(predictors[i])\n",
    "        best_score=aucc\n",
    "    \n",
    "    "
   ]
  },
  {
   "cell_type": "code",
   "execution_count": 234,
   "metadata": {},
   "outputs": [
    {
     "data": {
      "text/plain": [
       "['gender',\n",
       " 'SeniorCitizen',\n",
       " 'Partner',\n",
       " 'Dependents',\n",
       " 'tenure',\n",
       " 'MultipleLines',\n",
       " 'InternetService',\n",
       " 'OnlineSecurity',\n",
       " 'OnlineBackup',\n",
       " 'DeviceProtection',\n",
       " 'TechSupport',\n",
       " 'StreamingTV',\n",
       " 'StreamingMovies',\n",
       " 'Contract',\n",
       " 'PaperlessBilling',\n",
       " 'MonthlyCharges',\n",
       " 'TotalCharges']"
      ]
     },
     "execution_count": 234,
     "metadata": {},
     "output_type": "execute_result"
    }
   ],
   "source": [
    "cur_var\n",
    "#we can see payments method does not return a auc score more when added to model. hence it will be removed and again it will be recalcualted."
   ]
  },
  {
   "cell_type": "code",
   "execution_count": 243,
   "metadata": {},
   "outputs": [
    {
     "data": {
      "text/plain": [
       "17"
      ]
     },
     "execution_count": 243,
     "metadata": {},
     "output_type": "execute_result"
    }
   ],
   "source": [
    "len(cur_var)"
   ]
  },
  {
   "cell_type": "code",
   "execution_count": 231,
   "metadata": {},
   "outputs": [
    {
     "data": {
      "text/plain": [
       "[0.4977934128049953,\n",
       " 0.5583632243906425,\n",
       " 0.6264889428980114,\n",
       " 0.6321760114339767,\n",
       " 0.7516130814083952,\n",
       " 0.7512367820536279,\n",
       " 0.7697669360601803,\n",
       " 0.770093752625177,\n",
       " 0.7866814194425936,\n",
       " 0.7885329963900578,\n",
       " 0.7889006650256793,\n",
       " 0.7952678342303527,\n",
       " 0.7994796251736211,\n",
       " 0.8008950631135722,\n",
       " 0.8155028429588869,\n",
       " 0.8241790172257647,\n",
       " 0.8240041013177382,\n",
       " 0.8351676488425055,\n",
       " 0.8378920791862728]"
      ]
     },
     "execution_count": 231,
     "metadata": {},
     "output_type": "execute_result"
    }
   ],
   "source": [
    "aucc_list"
   ]
  },
  {
   "cell_type": "code",
   "execution_count": 251,
   "metadata": {},
   "outputs": [
    {
     "data": {
      "image/png": "[encoded data removed]",
      "text/plain": [
       "<Figure size 432x288 with 1 Axes>"
      ]
     },
     "metadata": {
      "needs_background": "light"
     },
     "output_type": "display_data"
    }
   ],
   "source": [
    "plt.plot(range(0,len(predictors)),aucc_list)\n",
    "plt.xlabel(\"predictors\")\n",
    "plt.ylabel(\"AUC_ROC_Score\")\n",
    "plt.title(\"AUC ROC CURVE\")\n",
    "plt.grid()"
   ]
  }
 ],
 "metadata": {
  "kernelspec": {
   "display_name": "Python 3",
   "language": "python",
   "name": "python3"
  },
  "language_info": {
   "codemirror_mode": {
    "name": "ipython",
    "version": 3
   },
   "file_extension": ".py",
   "mimetype": "text/x-python",
   "name": "python",
   "nbconvert_exporter": "python",
   "pygments_lexer": "ipython3",
   "version": "3.7.3"
  }
 },
 "nbformat": 4,
 "nbformat_minor": 2
}
